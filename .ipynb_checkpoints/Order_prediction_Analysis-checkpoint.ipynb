{
 "cells": [
  {
   "cell_type": "code",
   "execution_count": 1,
   "metadata": {},
   "outputs": [],
   "source": [
    "import pandas as pd\n",
    "import numpy as np\n",
    "import matplotlib.pyplot as plt\n",
    "import seaborn as sns\n",
    "\n",
    "%matplotlib inline\n",
    "\n",
    "from datetime import timedelta, date\n",
    "from itertools import product\n",
    "\n",
    "from sklearn.metrics import accuracy_score\n",
    "from sklearn.pipeline import Pipeline\n",
    "from sklearn.preprocessing import StandardScaler\n",
    "from sklearn.cluster import KMeans\n",
    "\n",
    "from sklearn.model_selection import cross_val_score\n",
    "from sklearn.model_selection import GridSearchCV\n",
    "from sklearn.metrics import multilabel_confusion_matrix, classification_report\n",
    "from sklearn.multioutput import MultiOutputClassifier\n",
    "from sklearn.linear_model import LogisticRegression\n",
    "from sklearn.ensemble import RandomForestClassifier\n",
    "from xgboost import XGBClassifier\n",
    "\n",
    "from sklearn.metrics import hamming_loss\n",
    "\n",
    "\n",
    "import warnings\n",
    "warnings.filterwarnings('ignore')"
   ]
  },
  {
   "cell_type": "code",
   "execution_count": 2,
   "metadata": {},
   "outputs": [
    {
     "data": {
      "text/html": [
       "<div>\n",
       "<style scoped>\n",
       "    .dataframe tbody tr th:only-of-type {\n",
       "        vertical-align: middle;\n",
       "    }\n",
       "\n",
       "    .dataframe tbody tr th {\n",
       "        vertical-align: top;\n",
       "    }\n",
       "\n",
       "    .dataframe thead th {\n",
       "        text-align: right;\n",
       "    }\n",
       "</style>\n",
       "<table border=\"1\" class=\"dataframe\">\n",
       "  <thead>\n",
       "    <tr style=\"text-align: right;\">\n",
       "      <th></th>\n",
       "      <th>session</th>\n",
       "      <th>visitor</th>\n",
       "      <th>dt</th>\n",
       "      <th>custno</th>\n",
       "      <th>category</th>\n",
       "      <th>event1</th>\n",
       "      <th>event2</th>\n",
       "    </tr>\n",
       "  </thead>\n",
       "  <tbody>\n",
       "    <tr>\n",
       "      <th>0</th>\n",
       "      <td>419542</td>\n",
       "      <td>140970</td>\n",
       "      <td>2016-09-16 05:03:23</td>\n",
       "      <td>3840</td>\n",
       "      <td>1</td>\n",
       "      <td>NaN</td>\n",
       "      <td>1</td>\n",
       "    </tr>\n",
       "    <tr>\n",
       "      <th>1</th>\n",
       "      <td>3030130</td>\n",
       "      <td>14501</td>\n",
       "      <td>2017-11-13 04:58:12</td>\n",
       "      <td>70400</td>\n",
       "      <td>1</td>\n",
       "      <td>NaN</td>\n",
       "      <td>1</td>\n",
       "    </tr>\n",
       "    <tr>\n",
       "      <th>2</th>\n",
       "      <td>2638740</td>\n",
       "      <td>419353</td>\n",
       "      <td>2017-05-24 16:10:38</td>\n",
       "      <td>21248</td>\n",
       "      <td>1</td>\n",
       "      <td>NaN</td>\n",
       "      <td>1</td>\n",
       "    </tr>\n",
       "    <tr>\n",
       "      <th>3</th>\n",
       "      <td>880408</td>\n",
       "      <td>90673</td>\n",
       "      <td>2017-10-28 13:42:38</td>\n",
       "      <td>39168</td>\n",
       "      <td>1</td>\n",
       "      <td>NaN</td>\n",
       "      <td>1</td>\n",
       "    </tr>\n",
       "    <tr>\n",
       "      <th>4</th>\n",
       "      <td>2612179</td>\n",
       "      <td>191542</td>\n",
       "      <td>2016-05-17 06:30:32</td>\n",
       "      <td>47616</td>\n",
       "      <td>1</td>\n",
       "      <td>NaN</td>\n",
       "      <td>1</td>\n",
       "    </tr>\n",
       "  </tbody>\n",
       "</table>\n",
       "</div>"
      ],
      "text/plain": [
       "   session  visitor                   dt  custno  category  event1  event2\n",
       "0   419542   140970  2016-09-16 05:03:23    3840         1     NaN       1\n",
       "1  3030130    14501  2017-11-13 04:58:12   70400         1     NaN       1\n",
       "2  2638740   419353  2017-05-24 16:10:38   21248         1     NaN       1\n",
       "3   880408    90673  2017-10-28 13:42:38   39168         1     NaN       1\n",
       "4  2612179   191542  2016-05-17 06:30:32   47616         1     NaN       1"
      ]
     },
     "execution_count": 2,
     "metadata": {},
     "output_type": "execute_result"
    }
   ],
   "source": [
    "online_data = pd.read_csv('online.csv')\n",
    "online_data.head()"
   ]
  },
  {
   "cell_type": "code",
   "execution_count": 3,
   "metadata": {},
   "outputs": [
    {
     "data": {
      "text/plain": [
       "session          0\n",
       "visitor          0\n",
       "dt               0\n",
       "custno           0\n",
       "category         0\n",
       "event1      789846\n",
       "event2           0\n",
       "dtype: int64"
      ]
     },
     "execution_count": 3,
     "metadata": {},
     "output_type": "execute_result"
    }
   ],
   "source": [
    "online_data.isna().sum()"
   ]
  },
  {
   "cell_type": "code",
   "execution_count": 4,
   "metadata": {},
   "outputs": [
    {
     "data": {
      "text/html": [
       "<div>\n",
       "<style scoped>\n",
       "    .dataframe tbody tr th:only-of-type {\n",
       "        vertical-align: middle;\n",
       "    }\n",
       "\n",
       "    .dataframe tbody tr th {\n",
       "        vertical-align: top;\n",
       "    }\n",
       "\n",
       "    .dataframe thead th {\n",
       "        text-align: right;\n",
       "    }\n",
       "</style>\n",
       "<table border=\"1\" class=\"dataframe\">\n",
       "  <thead>\n",
       "    <tr style=\"text-align: right;\">\n",
       "      <th></th>\n",
       "      <th>custno</th>\n",
       "      <th>ordno</th>\n",
       "      <th>orderdate</th>\n",
       "      <th>prodcat2</th>\n",
       "      <th>prodcat1</th>\n",
       "      <th>revenue</th>\n",
       "    </tr>\n",
       "  </thead>\n",
       "  <tbody>\n",
       "    <tr>\n",
       "      <th>0</th>\n",
       "      <td>18944</td>\n",
       "      <td>64694</td>\n",
       "      <td>2016-11-27 20:57:20</td>\n",
       "      <td>NaN</td>\n",
       "      <td>1</td>\n",
       "      <td>53.30</td>\n",
       "    </tr>\n",
       "    <tr>\n",
       "      <th>1</th>\n",
       "      <td>18944</td>\n",
       "      <td>114405</td>\n",
       "      <td>2017-04-29 20:18:04</td>\n",
       "      <td>NaN</td>\n",
       "      <td>1</td>\n",
       "      <td>0.10</td>\n",
       "    </tr>\n",
       "    <tr>\n",
       "      <th>2</th>\n",
       "      <td>18944</td>\n",
       "      <td>28906</td>\n",
       "      <td>2017-04-23 21:31:03</td>\n",
       "      <td>NaN</td>\n",
       "      <td>1</td>\n",
       "      <td>141.66</td>\n",
       "    </tr>\n",
       "    <tr>\n",
       "      <th>3</th>\n",
       "      <td>36096</td>\n",
       "      <td>62681</td>\n",
       "      <td>2016-02-25 07:16:33</td>\n",
       "      <td>NaN</td>\n",
       "      <td>1</td>\n",
       "      <td>36.82</td>\n",
       "    </tr>\n",
       "    <tr>\n",
       "      <th>4</th>\n",
       "      <td>1</td>\n",
       "      <td>1</td>\n",
       "      <td>2017-06-12 08:27:59</td>\n",
       "      <td>NaN</td>\n",
       "      <td>1</td>\n",
       "      <td>8.35</td>\n",
       "    </tr>\n",
       "  </tbody>\n",
       "</table>\n",
       "</div>"
      ],
      "text/plain": [
       "   custno   ordno            orderdate  prodcat2  prodcat1  revenue\n",
       "0   18944   64694  2016-11-27 20:57:20       NaN         1    53.30\n",
       "1   18944  114405  2017-04-29 20:18:04       NaN         1     0.10\n",
       "2   18944   28906  2017-04-23 21:31:03       NaN         1   141.66\n",
       "3   36096   62681  2016-02-25 07:16:33       NaN         1    36.82\n",
       "4       1       1  2017-06-12 08:27:59       NaN         1     8.35"
      ]
     },
     "execution_count": 4,
     "metadata": {},
     "output_type": "execute_result"
    }
   ],
   "source": [
    "order_data = pd.read_csv('order.csv')\n",
    "order_data.head()"
   ]
  },
  {
   "cell_type": "markdown",
   "metadata": {},
   "source": [
    "Based on the above datasets I am making these assumptions that the order_data is the transactional data where the customer is buying stuff and online_data is non-transactional and based on click data or similar to window shopping trend data of customers."
   ]
  },
  {
   "cell_type": "code",
   "execution_count": 5,
   "metadata": {},
   "outputs": [
    {
     "data": {
      "text/plain": [
       "custno          0\n",
       "ordno           0\n",
       "orderdate       0\n",
       "prodcat2     1823\n",
       "prodcat1        0\n",
       "revenue         0\n",
       "dtype: int64"
      ]
     },
     "execution_count": 5,
     "metadata": {},
     "output_type": "execute_result"
    }
   ],
   "source": [
    "order_data.isna().sum()"
   ]
  },
  {
   "cell_type": "code",
   "execution_count": 6,
   "metadata": {},
   "outputs": [
    {
     "data": {
      "text/plain": [
       "57584"
      ]
     },
     "execution_count": 6,
     "metadata": {},
     "output_type": "execute_result"
    }
   ],
   "source": [
    "online_data.custno.nunique()"
   ]
  },
  {
   "cell_type": "code",
   "execution_count": 7,
   "metadata": {},
   "outputs": [
    {
     "data": {
      "text/plain": [
       "850235"
      ]
     },
     "execution_count": 7,
     "metadata": {},
     "output_type": "execute_result"
    }
   ],
   "source": [
    "online_data.session.nunique()"
   ]
  },
  {
   "cell_type": "code",
   "execution_count": 8,
   "metadata": {},
   "outputs": [
    {
     "data": {
      "text/plain": [
       "259950"
      ]
     },
     "execution_count": 8,
     "metadata": {},
     "output_type": "execute_result"
    }
   ],
   "source": [
    "online_data.visitor.nunique()"
   ]
  },
  {
   "cell_type": "code",
   "execution_count": 9,
   "metadata": {},
   "outputs": [
    {
     "data": {
      "text/plain": [
       "70264"
      ]
     },
     "execution_count": 9,
     "metadata": {},
     "output_type": "execute_result"
    }
   ],
   "source": [
    "order_data.custno.nunique()"
   ]
  },
  {
   "cell_type": "markdown",
   "metadata": {},
   "source": [
    "Lets look at some visuals for understanding of data distribution.\n",
    "\n",
    "Analyzing first the order_data trends:"
   ]
  },
  {
   "cell_type": "code",
   "execution_count": 10,
   "metadata": {},
   "outputs": [
    {
     "data": {
      "text/plain": [
       "<seaborn.axisgrid.FacetGrid at 0x7fb38a50ceb0>"
      ]
     },
     "execution_count": 10,
     "metadata": {},
     "output_type": "execute_result"
    },
    {
     "data": {
      "image/png": "[encoded data removed]",
      "text/plain": [
       "<Figure size 360x360 with 1 Axes>"
      ]
     },
     "metadata": {
      "needs_background": "light"
     },
     "output_type": "display_data"
    }
   ],
   "source": [
    "#Lets start with the order data target variable.\n",
    "sns.catplot(x='prodcat1' , kind = 'count', data=order_data)"
   ]
  },
  {
   "cell_type": "markdown",
   "metadata": {},
   "source": [
    "The above plot tells us that we have a total of 6 category and the distribution of each category across the data set is shown in the plot. The orders based on category-2 are high (can be viewed as more bought category-2 items and least bought category-5 items). It also shows that the distribution of the classes is imbalanced (especially class-5) from the model analysis perspective and needs to keep this in mind while checking classification metrics."
   ]
  },
  {
   "cell_type": "code",
   "execution_count": 11,
   "metadata": {},
   "outputs": [
    {
     "data": {
      "text/plain": [
       "<matplotlib.axes._subplots.AxesSubplot at 0x7fb37fc96a00>"
      ]
     },
     "execution_count": 11,
     "metadata": {},
     "output_type": "execute_result"
    },
    {
     "data": {
      "image/png": "[encoded data removed]",
      "text/plain": [
       "<Figure size 432x288 with 1 Axes>"
      ]
     },
     "metadata": {
      "needs_background": "light"
     },
     "output_type": "display_data"
    }
   ],
   "source": [
    "sns.boxplot(x='prodcat1', y = 'revenue', data = order_data)"
   ]
  },
  {
   "cell_type": "markdown",
   "metadata": {},
   "source": [
    "The above plot shows the distribution of revenue generated with respect to each product category. The distribution seems to be similar for all the categories with mean in the range of 75-80 units."
   ]
  },
  {
   "cell_type": "markdown",
   "metadata": {},
   "source": [
    "Assumption on Data :\n",
    "\n",
    "Based on the data I am assuming (and considering for further analysis) that the prodcat2 might be a sub-category of prodcat1 "
   ]
  },
  {
   "cell_type": "code",
   "execution_count": 12,
   "metadata": {},
   "outputs": [
    {
     "data": {
      "image/png": "[encoded data removed]",
      "text/plain": [
       "<Figure size 432x288 with 1 Axes>"
      ]
     },
     "metadata": {
      "needs_background": "light"
     },
     "output_type": "display_data"
    }
   ],
   "source": [
    "#Lets look at the count of categories of prodcat2 w.r.t prodcat1\n",
    "plt.title('Count of Prodcat2 w.r.t to Prodcat1')\n",
    "sns.barplot(x = order_data.groupby(['prodcat1']).prodcat2.unique().keys(), y = order_data.groupby(['prodcat1']).prodcat2.nunique())\n",
    "plt.show()"
   ]
  },
  {
   "cell_type": "markdown",
   "metadata": {},
   "source": [
    "The above plot shows the count of sub-categories based on prodcat1 categories. Seems like prodcat1 == 3 has most subcategories and prodcat==5 has the least sub-categories."
   ]
  },
  {
   "cell_type": "code",
   "execution_count": 13,
   "metadata": {},
   "outputs": [
    {
     "data": {
      "text/plain": [
       "count    263278.000000\n",
       "mean         74.939302\n",
       "std          43.277175\n",
       "min           0.000000\n",
       "25%          37.430000\n",
       "50%          74.930000\n",
       "75%         112.280000\n",
       "max         150.000000\n",
       "Name: revenue, dtype: float64"
      ]
     },
     "execution_count": 13,
     "metadata": {},
     "output_type": "execute_result"
    }
   ],
   "source": [
    "#look at revenue data distribution and plot\n",
    "order_data['revenue'].describe()"
   ]
  },
  {
   "cell_type": "code",
   "execution_count": 14,
   "metadata": {},
   "outputs": [
    {
     "data": {
      "text/plain": [
       "<matplotlib.axes._subplots.AxesSubplot at 0x7fb373542df0>"
      ]
     },
     "execution_count": 14,
     "metadata": {},
     "output_type": "execute_result"
    },
    {
     "data": {
      "image/png": "[encoded data removed]",
      "text/plain": [
       "<Figure size 432x288 with 1 Axes>"
      ]
     },
     "metadata": {
      "needs_background": "light"
     },
     "output_type": "display_data"
    }
   ],
   "source": [
    "sns.distplot(order_data['revenue'])"
   ]
  },
  {
   "cell_type": "markdown",
   "metadata": {},
   "source": [
    "From the above plot we can see there are no outliers in revenue and the distribution is even."
   ]
  },
  {
   "cell_type": "code",
   "execution_count": 15,
   "metadata": {},
   "outputs": [
    {
     "data": {
      "text/plain": [
       "<matplotlib.axes._subplots.AxesSubplot at 0x7fb3723a92e0>"
      ]
     },
     "execution_count": 15,
     "metadata": {},
     "output_type": "execute_result"
    },
    {
     "data": {
      "image/png": "[encoded data removed]",
      "text/plain": [
       "<Figure size 432x288 with 1 Axes>"
      ]
     },
     "metadata": {
      "needs_background": "light"
     },
     "output_type": "display_data"
    }
   ],
   "source": [
    "#Lets look at the revenue generated based on each prodcat1 category\n",
    "plt.title('Revenue based on prodcat1 categories')\n",
    "sns.barplot(x = order_data.groupby(['prodcat1']).revenue.sum().keys(), y = order_data.groupby(['prodcat1']).revenue.sum().values)"
   ]
  },
  {
   "cell_type": "markdown",
   "metadata": {},
   "source": [
    "From the above plot we can see that category are generating more revenue (comparinf with the orders may be these category has costlier products) and category-5 are generating less revenue (cause - less orders)"
   ]
  },
  {
   "cell_type": "code",
   "execution_count": 16,
   "metadata": {},
   "outputs": [
    {
     "data": {
      "text/plain": [
       "<matplotlib.axes._subplots.AxesSubplot at 0x7fb3723a9d30>"
      ]
     },
     "execution_count": 16,
     "metadata": {},
     "output_type": "execute_result"
    },
    {
     "data": {
      "image/png": "[encoded data removed]",
      "text/plain": [
       "<Figure size 432x288 with 1 Axes>"
      ]
     },
     "metadata": {
      "needs_background": "light"
     },
     "output_type": "display_data"
    }
   ],
   "source": [
    "#Overall customer per order count \n",
    "sns.distplot(order_data.custno.value_counts().values)"
   ]
  },
  {
   "cell_type": "code",
   "execution_count": 17,
   "metadata": {},
   "outputs": [
    {
     "data": {
      "text/plain": [
       "<matplotlib.axes._subplots.AxesSubplot at 0x7fb3718ba490>"
      ]
     },
     "execution_count": 17,
     "metadata": {},
     "output_type": "execute_result"
    },
    {
     "data": {
      "image/png": "[encoded data removed]",
      "text/plain": [
       "<Figure size 432x288 with 1 Axes>"
      ]
     },
     "metadata": {
      "needs_background": "light"
     },
     "output_type": "display_data"
    }
   ],
   "source": [
    "sns.distplot(order_data.custno.value_counts()[:100].values, bins=10)"
   ]
  },
  {
   "cell_type": "markdown",
   "metadata": {},
   "source": [
    "Now Analyzing online data trends:\n"
   ]
  },
  {
   "cell_type": "code",
   "execution_count": 18,
   "metadata": {},
   "outputs": [
    {
     "name": "stdout",
     "output_type": "stream",
     "text": [
      "<class 'pandas.core.frame.DataFrame'>\n",
      "RangeIndex: 954774 entries, 0 to 954773\n",
      "Data columns (total 7 columns):\n",
      " #   Column    Non-Null Count   Dtype  \n",
      "---  ------    --------------   -----  \n",
      " 0   session   954774 non-null  int64  \n",
      " 1   visitor   954774 non-null  int64  \n",
      " 2   dt        954774 non-null  object \n",
      " 3   custno    954774 non-null  int64  \n",
      " 4   category  954774 non-null  int64  \n",
      " 5   event1    164928 non-null  float64\n",
      " 6   event2    954774 non-null  int64  \n",
      "dtypes: float64(1), int64(5), object(1)\n",
      "memory usage: 51.0+ MB\n"
     ]
    }
   ],
   "source": [
    "# Looking at trends with respect to online data.\n",
    "online_data.info()"
   ]
  },
  {
   "cell_type": "code",
   "execution_count": 19,
   "metadata": {},
   "outputs": [
    {
     "data": {
      "text/plain": [
       "array([1, 2, 3])"
      ]
     },
     "execution_count": 19,
     "metadata": {},
     "output_type": "execute_result"
    }
   ],
   "source": [
    "online_data.category.unique()"
   ]
  },
  {
   "cell_type": "code",
   "execution_count": 20,
   "metadata": {},
   "outputs": [
    {
     "data": {
      "text/plain": [
       "array([nan,  1.,  2.,  4.,  5.,  6.,  7.,  8.,  9., 10., 11.])"
      ]
     },
     "execution_count": 20,
     "metadata": {},
     "output_type": "execute_result"
    }
   ],
   "source": [
    "online_data.event1.unique()"
   ]
  },
  {
   "cell_type": "code",
   "execution_count": 21,
   "metadata": {},
   "outputs": [
    {
     "data": {
      "text/plain": [
       "array([ 1,  2,  3,  4,  5,  6,  7,  8,  9, 10])"
      ]
     },
     "execution_count": 21,
     "metadata": {},
     "output_type": "execute_result"
    }
   ],
   "source": [
    "online_data.event2.unique()"
   ]
  },
  {
   "cell_type": "code",
   "execution_count": 22,
   "metadata": {},
   "outputs": [
    {
     "data": {
      "image/png": "[encoded data removed]",
      "text/plain": [
       "<Figure size 360x360 with 1 Axes>"
      ]
     },
     "metadata": {
      "needs_background": "light"
     },
     "output_type": "display_data"
    }
   ],
   "source": [
    "#Lets start with the order data target variable.\n",
    "sns.catplot(x = 'category', kind = 'count', data=online_data).set(title = 'prodcat1 count based on session data')\n",
    "plt.show()"
   ]
  },
  {
   "cell_type": "markdown",
   "metadata": {},
   "source": [
    "In the online session data the category-3 is explored (window shopped) more"
   ]
  },
  {
   "cell_type": "code",
   "execution_count": 23,
   "metadata": {},
   "outputs": [
    {
     "data": {
      "image/png": "[encoded data removed]",
      "text/plain": [
       "<Figure size 360x360 with 1 Axes>"
      ]
     },
     "metadata": {
      "needs_background": "light"
     },
     "output_type": "display_data"
    }
   ],
   "source": [
    "# Lets look at event1 trends\n",
    "sns.catplot(x = 'event1', kind = 'count', data=online_data).set(title = 'event1 count based on session data')\n",
    "plt.show()"
   ]
  },
  {
   "cell_type": "code",
   "execution_count": 24,
   "metadata": {},
   "outputs": [
    {
     "data": {
      "image/png": "[encoded data removed]",
      "text/plain": [
       "<Figure size 360x360 with 1 Axes>"
      ]
     },
     "metadata": {
      "needs_background": "light"
     },
     "output_type": "display_data"
    }
   ],
   "source": [
    "# Lets look at event2 trends\n",
    "sns.catplot(x = 'event2', kind = 'count', data=online_data).set(title = 'event2 count based on session data')\n",
    "plt.show()"
   ]
  },
  {
   "cell_type": "markdown",
   "metadata": {},
   "source": [
    "The distribution of event1 and event2 vary across the sessions."
   ]
  },
  {
   "cell_type": "markdown",
   "metadata": {},
   "source": [
    "Now lets look at what we can infer from timestamp variable and see the range of dt for both orders and online data."
   ]
  },
  {
   "cell_type": "code",
   "execution_count": 25,
   "metadata": {},
   "outputs": [
    {
     "name": "stdout",
     "output_type": "stream",
     "text": [
      "The online data is in the time frame of 2016-01-01 00:00:08 to 2017-12-31 23:58:05\n",
      "The order data is in the time frame of 2016-01-01 05:05:14 to 2019-01-02 23:54:58\n"
     ]
    }
   ],
   "source": [
    "print(\"The online data is in the time frame of \" + \n",
    "      online_data.dt.min() + \" to \" + online_data.dt.max())\n",
    "\n",
    "print(\"The order data is in the time frame of \" + \n",
    "      order_data.orderdate.min() + \" to \" + order_data.orderdate.max())"
   ]
  },
  {
   "cell_type": "markdown",
   "metadata": {},
   "source": [
    "For the following analysis lets try to use the data from the same time frames for both online and orders data. Lets use order_data <= 2017-12-31 23:58:05 to match the online_data"
   ]
  },
  {
   "cell_type": "code",
   "execution_count": 26,
   "metadata": {},
   "outputs": [],
   "source": [
    "mask = order_data['orderdate'] <= online_data.dt.max()\n",
    "order_data_truncated = order_data[mask].reset_index(drop=True)"
   ]
  },
  {
   "cell_type": "code",
   "execution_count": 27,
   "metadata": {},
   "outputs": [
    {
     "data": {
      "text/plain": [
       "(176274, 6)"
      ]
     },
     "execution_count": 27,
     "metadata": {},
     "output_type": "execute_result"
    }
   ],
   "source": [
    "order_data_truncated.shape"
   ]
  },
  {
   "cell_type": "code",
   "execution_count": 28,
   "metadata": {},
   "outputs": [
    {
     "name": "stdout",
     "output_type": "stream",
     "text": [
      "The order data is in the time frame of 2016-01-01 05:05:14 to 2017-12-31 23:36:46\n"
     ]
    }
   ],
   "source": [
    "print(\"The order data is in the time frame of \" + \n",
    "      order_data_truncated.orderdate.min() + \" to \" + order_data_truncated.orderdate.max())"
   ]
  },
  {
   "cell_type": "code",
   "execution_count": 29,
   "metadata": {},
   "outputs": [],
   "source": [
    "# Convert the date time of both datasets to date_time objects\n",
    "order_data_truncated['orderdate'] = pd.to_datetime(order_data_truncated['orderdate'])\n",
    "online_data['dt'] = pd.to_datetime(online_data['dt'])"
   ]
  },
  {
   "cell_type": "markdown",
   "metadata": {},
   "source": [
    "## Bonus problem : Customer segmentation"
   ]
  },
  {
   "cell_type": "markdown",
   "metadata": {},
   "source": [
    "RFM analysis is a very well known approach for customer segmentation based on traits of recency, frequency and monetary.\n",
    "\n",
    "\n",
    "*   Recency - How recent was the customer's last order\n",
    "*   Frequency - How frequent did the customer made orders based on a time frame.\n",
    "*   Monetary - Money spent by the customer on orders in a time frame.\n",
    "\n",
    "\n",
    "\n"
   ]
  },
  {
   "cell_type": "code",
   "execution_count": 30,
   "metadata": {},
   "outputs": [
    {
     "data": {
      "text/html": [
       "<div>\n",
       "<style scoped>\n",
       "    .dataframe tbody tr th:only-of-type {\n",
       "        vertical-align: middle;\n",
       "    }\n",
       "\n",
       "    .dataframe tbody tr th {\n",
       "        vertical-align: top;\n",
       "    }\n",
       "\n",
       "    .dataframe thead th {\n",
       "        text-align: right;\n",
       "    }\n",
       "</style>\n",
       "<table border=\"1\" class=\"dataframe\">\n",
       "  <thead>\n",
       "    <tr style=\"text-align: right;\">\n",
       "      <th></th>\n",
       "      <th>recency</th>\n",
       "      <th>frequency</th>\n",
       "      <th>monetary</th>\n",
       "    </tr>\n",
       "    <tr>\n",
       "      <th>custno</th>\n",
       "      <th></th>\n",
       "      <th></th>\n",
       "      <th></th>\n",
       "    </tr>\n",
       "  </thead>\n",
       "  <tbody>\n",
       "    <tr>\n",
       "      <th>1</th>\n",
       "      <td>203</td>\n",
       "      <td>1</td>\n",
       "      <td>8.35</td>\n",
       "    </tr>\n",
       "    <tr>\n",
       "      <th>2</th>\n",
       "      <td>244</td>\n",
       "      <td>6</td>\n",
       "      <td>426.11</td>\n",
       "    </tr>\n",
       "    <tr>\n",
       "      <th>3</th>\n",
       "      <td>277</td>\n",
       "      <td>6</td>\n",
       "      <td>565.43</td>\n",
       "    </tr>\n",
       "    <tr>\n",
       "      <th>4</th>\n",
       "      <td>116</td>\n",
       "      <td>7</td>\n",
       "      <td>347.55</td>\n",
       "    </tr>\n",
       "    <tr>\n",
       "      <th>5</th>\n",
       "      <td>716</td>\n",
       "      <td>1</td>\n",
       "      <td>90.49</td>\n",
       "    </tr>\n",
       "  </tbody>\n",
       "</table>\n",
       "</div>"
      ],
      "text/plain": [
       "        recency  frequency  monetary\n",
       "custno                              \n",
       "1           203          1      8.35\n",
       "2           244          6    426.11\n",
       "3           277          6    565.43\n",
       "4           116          7    347.55\n",
       "5           716          1     90.49"
      ]
     },
     "execution_count": 30,
     "metadata": {},
     "output_type": "execute_result"
    }
   ],
   "source": [
    "max_date = order_data_truncated.orderdate.max() #get end date\n",
    "max_date\n",
    "\n",
    "date_segment = max_date + timedelta(days=1)\n",
    "date_segment\n",
    "\n",
    "rfm_df = order_data_truncated.groupby(['custno']).agg({\n",
    "    'orderdate' : lambda x: (date_segment - x.max()).days, #last order\n",
    "    'ordno' : 'count', \n",
    "    'revenue' : 'sum'}).rename(columns = {'orderdate' : 'recency',\n",
    "                                          'ordno' : 'frequency',\n",
    "                                          'revenue' : 'monetary'})\n",
    "\n",
    "rfm_df.head()"
   ]
  },
  {
   "cell_type": "code",
   "execution_count": 31,
   "metadata": {},
   "outputs": [
    {
     "data": {
      "image/png": "[encoded data removed]",
      "text/plain": [
       "<Figure size 720x576 with 3 Axes>"
      ]
     },
     "metadata": {
      "needs_background": "light"
     },
     "output_type": "display_data"
    }
   ],
   "source": [
    "plt.figure(figsize=(10,8))\n",
    "plt.subplot(3,1,1);sns.distplot(rfm_df.recency)\n",
    "plt.subplot(3,1,2);sns.distplot(rfm_df.frequency)\n",
    "plt.subplot(3,1,3);sns.distplot(rfm_df.monetary)\n",
    "plt.show()"
   ]
  },
  {
   "cell_type": "markdown",
   "metadata": {},
   "source": [
    "From the above we can see skewness in the frequency and monetary sections. Lets look at the log transformed plots to see if the skewness if fixed."
   ]
  },
  {
   "cell_type": "code",
   "execution_count": 32,
   "metadata": {},
   "outputs": [
    {
     "data": {
      "image/png": "[encoded data removed]",
      "text/plain": [
       "<Figure size 720x576 with 3 Axes>"
      ]
     },
     "metadata": {
      "needs_background": "light"
     },
     "output_type": "display_data"
    }
   ],
   "source": [
    "plt.figure(figsize=(10,8))\n",
    "plt.subplot(3,1,1);sns.distplot(np.log(rfm_df.recency))\n",
    "plt.subplot(3,1,2);sns.distplot(np.log(rfm_df.frequency))\n",
    "plt.subplot(3,1,3);sns.distplot(np.log(rfm_df.monetary))\n",
    "plt.show()"
   ]
  },
  {
   "cell_type": "code",
   "execution_count": 33,
   "metadata": {},
   "outputs": [
    {
     "data": {
      "text/html": [
       "<div>\n",
       "<style scoped>\n",
       "    .dataframe tbody tr th:only-of-type {\n",
       "        vertical-align: middle;\n",
       "    }\n",
       "\n",
       "    .dataframe tbody tr th {\n",
       "        vertical-align: top;\n",
       "    }\n",
       "\n",
       "    .dataframe thead th {\n",
       "        text-align: right;\n",
       "    }\n",
       "</style>\n",
       "<table border=\"1\" class=\"dataframe\">\n",
       "  <thead>\n",
       "    <tr style=\"text-align: right;\">\n",
       "      <th></th>\n",
       "      <th>recency</th>\n",
       "      <th>frequency</th>\n",
       "      <th>monetary</th>\n",
       "    </tr>\n",
       "    <tr>\n",
       "      <th>custno</th>\n",
       "      <th></th>\n",
       "      <th></th>\n",
       "      <th></th>\n",
       "    </tr>\n",
       "  </thead>\n",
       "  <tbody>\n",
       "    <tr>\n",
       "      <th>1</th>\n",
       "      <td>-0.322841</td>\n",
       "      <td>-0.855315</td>\n",
       "      <td>-2.317135</td>\n",
       "    </tr>\n",
       "    <tr>\n",
       "      <th>2</th>\n",
       "      <td>-0.138220</td>\n",
       "      <td>1.326347</td>\n",
       "      <td>1.028735</td>\n",
       "    </tr>\n",
       "    <tr>\n",
       "      <th>3</th>\n",
       "      <td>-0.010916</td>\n",
       "      <td>1.326347</td>\n",
       "      <td>1.269428</td>\n",
       "    </tr>\n",
       "    <tr>\n",
       "      <th>4</th>\n",
       "      <td>-0.884461</td>\n",
       "      <td>1.514042</td>\n",
       "      <td>0.855344</td>\n",
       "    </tr>\n",
       "    <tr>\n",
       "      <th>5</th>\n",
       "      <td>0.942147</td>\n",
       "      <td>-0.855315</td>\n",
       "      <td>-0.289604</td>\n",
       "    </tr>\n",
       "  </tbody>\n",
       "</table>\n",
       "</div>"
      ],
      "text/plain": [
       "         recency  frequency  monetary\n",
       "custno                               \n",
       "1      -0.322841  -0.855315 -2.317135\n",
       "2      -0.138220   1.326347  1.028735\n",
       "3      -0.010916   1.326347  1.269428\n",
       "4      -0.884461   1.514042  0.855344\n",
       "5       0.942147  -0.855315 -0.289604"
      ]
     },
     "execution_count": 33,
     "metadata": {},
     "output_type": "execute_result"
    }
   ],
   "source": [
    "rfm_df_log = np.log(rfm_df) \n",
    "\n",
    "#Using standard scaler to make them scaled\n",
    "scaler = StandardScaler()\n",
    "scaler.fit(rfm_df_log)\n",
    "\n",
    "rfm_df_standard = scaler.transform(rfm_df_log)\n",
    "\n",
    "rfm_df_standard = pd.DataFrame(data = rfm_df_standard, \n",
    "                                index = rfm_df.index, \n",
    "                                columns = rfm_df.columns) \n",
    "\n",
    "rfm_df_standard.head()"
   ]
  },
  {
   "cell_type": "code",
   "execution_count": 34,
   "metadata": {},
   "outputs": [],
   "source": [
    "#Performing KMeans analysis for Customer Segmentation.\n",
    "\n",
    "#Checking kmeans for range of 1 to 12 clusters\n",
    "Cluster_error = {}\n",
    "for k in range(1,12):\n",
    "  KM_model = KMeans(n_clusters = k, random_state=1)\n",
    "  KM_model.fit(rfm_df_standard)\n",
    "  Cluster_error[k] = KM_model.inertia_ "
   ]
  },
  {
   "cell_type": "code",
   "execution_count": 35,
   "metadata": {},
   "outputs": [
    {
     "data": {
      "text/plain": [
       "[Text(0.5, 1.0, 'Elbow_Method')]"
      ]
     },
     "execution_count": 35,
     "metadata": {},
     "output_type": "execute_result"
    },
    {
     "data": {
      "image/png": "[encoded data removed]",
      "text/plain": [
       "<Figure size 432x288 with 1 Axes>"
      ]
     },
     "metadata": {
      "needs_background": "light"
     },
     "output_type": "display_data"
    }
   ],
   "source": [
    "# Checking Elbow Method.\n",
    "sns.pointplot(x=list(Cluster_error.keys()), \n",
    "              y=list(Cluster_error.values())).set(title = 'Elbow_Method')"
   ]
  },
  {
   "cell_type": "code",
   "execution_count": 36,
   "metadata": {},
   "outputs": [
    {
     "data": {
      "text/html": [
       "<div>\n",
       "<style scoped>\n",
       "    .dataframe tbody tr th:only-of-type {\n",
       "        vertical-align: middle;\n",
       "    }\n",
       "\n",
       "    .dataframe tbody tr th {\n",
       "        vertical-align: top;\n",
       "    }\n",
       "\n",
       "    .dataframe thead th {\n",
       "        text-align: right;\n",
       "    }\n",
       "</style>\n",
       "<table border=\"1\" class=\"dataframe\">\n",
       "  <thead>\n",
       "    <tr style=\"text-align: right;\">\n",
       "      <th></th>\n",
       "      <th>recency</th>\n",
       "      <th>frequency</th>\n",
       "      <th>monetary</th>\n",
       "      <th>Cluster</th>\n",
       "    </tr>\n",
       "    <tr>\n",
       "      <th>custno</th>\n",
       "      <th></th>\n",
       "      <th></th>\n",
       "      <th></th>\n",
       "      <th></th>\n",
       "    </tr>\n",
       "  </thead>\n",
       "  <tbody>\n",
       "    <tr>\n",
       "      <th>1</th>\n",
       "      <td>203</td>\n",
       "      <td>1</td>\n",
       "      <td>8.35</td>\n",
       "      <td>1</td>\n",
       "    </tr>\n",
       "    <tr>\n",
       "      <th>2</th>\n",
       "      <td>244</td>\n",
       "      <td>6</td>\n",
       "      <td>426.11</td>\n",
       "      <td>2</td>\n",
       "    </tr>\n",
       "    <tr>\n",
       "      <th>3</th>\n",
       "      <td>277</td>\n",
       "      <td>6</td>\n",
       "      <td>565.43</td>\n",
       "      <td>2</td>\n",
       "    </tr>\n",
       "    <tr>\n",
       "      <th>4</th>\n",
       "      <td>116</td>\n",
       "      <td>7</td>\n",
       "      <td>347.55</td>\n",
       "      <td>2</td>\n",
       "    </tr>\n",
       "    <tr>\n",
       "      <th>5</th>\n",
       "      <td>716</td>\n",
       "      <td>1</td>\n",
       "      <td>90.49</td>\n",
       "      <td>1</td>\n",
       "    </tr>\n",
       "  </tbody>\n",
       "</table>\n",
       "</div>"
      ],
      "text/plain": [
       "        recency  frequency  monetary  Cluster\n",
       "custno                                       \n",
       "1           203          1      8.35        1\n",
       "2           244          6    426.11        2\n",
       "3           277          6    565.43        2\n",
       "4           116          7    347.55        2\n",
       "5           716          1     90.49        1"
      ]
     },
     "execution_count": 36,
     "metadata": {},
     "output_type": "execute_result"
    }
   ],
   "source": [
    "# Fitting KMeans with optimal clusters of 3.\n",
    "KM_optimal = KMeans(n_clusters = 3, random_state=1)\n",
    "KM_optimal.fit(rfm_df_standard)\n",
    "clust_labls = KM_optimal.labels_\n",
    "\n",
    "rfm_df_clustered = rfm_df.assign(Cluster = clust_labls)\n",
    "rfm_df_clustered.head()"
   ]
  },
  {
   "cell_type": "code",
   "execution_count": 37,
   "metadata": {},
   "outputs": [
    {
     "data": {
      "text/html": [
       "<div>\n",
       "<style scoped>\n",
       "    .dataframe tbody tr th:only-of-type {\n",
       "        vertical-align: middle;\n",
       "    }\n",
       "\n",
       "    .dataframe tbody tr th {\n",
       "        vertical-align: top;\n",
       "    }\n",
       "\n",
       "    .dataframe thead tr th {\n",
       "        text-align: left;\n",
       "    }\n",
       "\n",
       "    .dataframe thead tr:last-of-type th {\n",
       "        text-align: right;\n",
       "    }\n",
       "</style>\n",
       "<table border=\"1\" class=\"dataframe\">\n",
       "  <thead>\n",
       "    <tr>\n",
       "      <th></th>\n",
       "      <th>recency</th>\n",
       "      <th>frequency</th>\n",
       "      <th colspan=\"2\" halign=\"left\">monetary</th>\n",
       "    </tr>\n",
       "    <tr>\n",
       "      <th></th>\n",
       "      <th>mean</th>\n",
       "      <th>mean</th>\n",
       "      <th>mean</th>\n",
       "      <th>count</th>\n",
       "    </tr>\n",
       "    <tr>\n",
       "      <th>Cluster</th>\n",
       "      <th></th>\n",
       "      <th></th>\n",
       "      <th></th>\n",
       "      <th></th>\n",
       "    </tr>\n",
       "  </thead>\n",
       "  <tbody>\n",
       "    <tr>\n",
       "      <th>0</th>\n",
       "      <td>35.228925</td>\n",
       "      <td>23.016967</td>\n",
       "      <td>1726.299618</td>\n",
       "      <td>3713</td>\n",
       "    </tr>\n",
       "    <tr>\n",
       "      <th>1</th>\n",
       "      <td>418.638025</td>\n",
       "      <td>1.098560</td>\n",
       "      <td>72.509644</td>\n",
       "      <td>22159</td>\n",
       "    </tr>\n",
       "    <tr>\n",
       "      <th>2</th>\n",
       "      <td>393.422713</td>\n",
       "      <td>2.896631</td>\n",
       "      <td>227.061768</td>\n",
       "      <td>22947</td>\n",
       "    </tr>\n",
       "  </tbody>\n",
       "</table>\n",
       "</div>"
      ],
      "text/plain": [
       "            recency  frequency     monetary       \n",
       "               mean       mean         mean  count\n",
       "Cluster                                           \n",
       "0         35.228925  23.016967  1726.299618   3713\n",
       "1        418.638025   1.098560    72.509644  22159\n",
       "2        393.422713   2.896631   227.061768  22947"
      ]
     },
     "execution_count": 37,
     "metadata": {},
     "output_type": "execute_result"
    }
   ],
   "source": [
    "#Lets look at the rfm mean values w.r.t clusters\n",
    "rfm_df_mean = rfm_df_clustered.groupby(['Cluster']).agg({\n",
    "    'recency' : 'mean',\n",
    "    'frequency' : 'mean',\n",
    "    'monetary' : ['mean','count']\n",
    "})\n",
    "\n",
    "rfm_df_mean"
   ]
  },
  {
   "cell_type": "markdown",
   "metadata": {},
   "source": [
    "From the above analysis we can see that cluster-0 group is kind of most visted group with low recency value (meaning visiting regularly) and high spend value on orders. I would say cluster-0 are most loyal customers. Whereas cluster-1 are a bit irregular and less revenue generated customers."
   ]
  },
  {
   "cell_type": "code",
   "execution_count": 38,
   "metadata": {},
   "outputs": [
    {
     "name": "stdout",
     "output_type": "stream",
     "text": [
      "[0.73490217 0.19998065]\n"
     ]
    }
   ],
   "source": [
    "# PCA analysis for looking at the clusters\n",
    "from sklearn.decomposition import PCA\n",
    "\n",
    "pca = PCA(n_components=2)\n",
    "pca.fit(rfm_df_standard)\n",
    "\n",
    "print(pca.explained_variance_ratio_)"
   ]
  },
  {
   "cell_type": "code",
   "execution_count": 39,
   "metadata": {},
   "outputs": [
    {
     "data": {
      "image/png": "[encoded data removed]",
      "text/plain": [
       "<Figure size 576x576 with 1 Axes>"
      ]
     },
     "metadata": {
      "needs_background": "light"
     },
     "output_type": "display_data"
    }
   ],
   "source": [
    "#Visualizing a 2d PC transformed plot\n",
    "principalComponents = pca.fit_transform(rfm_df_standard)\n",
    "principalDf = pd.DataFrame(data = principalComponents\n",
    "             , columns = ['principal component 1', 'principal component 2'])\n",
    "\n",
    "finalDf = pd.concat([principalDf, rfm_df_clustered[['Cluster']]], axis = 1)\n",
    "\n",
    "fig = plt.figure(figsize = (8,8))\n",
    "ax = fig.add_subplot(1,1,1) \n",
    "ax.set_xlabel('Principal Component 1', fontsize = 15)\n",
    "ax.set_ylabel('Principal Component 2', fontsize = 15)\n",
    "ax.set_title('2 component PCA', fontsize = 20)\n",
    "targets = [0, 1, 2]\n",
    "colors = ['r', 'g', 'b']\n",
    "for target, color in zip(targets,colors):\n",
    "    indicesToKeep = finalDf['Cluster'] == target\n",
    "    ax.scatter(finalDf.loc[indicesToKeep, 'principal component 1']\n",
    "               , finalDf.loc[indicesToKeep, 'principal component 2']\n",
    "               , c = color\n",
    "               , s = 10)\n",
    "ax.legend(targets)\n",
    "ax.grid()"
   ]
  },
  {
   "cell_type": "markdown",
   "metadata": {},
   "source": [
    "# 2. Feature Engineering\n",
    "\n",
    "> Includes a bit data cleaning and processing.\n",
    "\n"
   ]
  },
  {
   "cell_type": "markdown",
   "metadata": {},
   "source": [
    "From the EDA we have seen that the data is between 2016-01-01 to 2017-12-31 dates (2 years) and has a nice time dependent order history. \n",
    "So, for our model analysis lets divide the data of 1 years (based on recency) for training feature and next 6 months for traininlg lablels and similarly the test labels data aswell.\n",
    "\n",
    "1.   Training data features - 2016-01-01 to 2016-12-31, Training label - 2017-01-01 to 2017-06-30.\n",
    "2.   Testing data - 2016-07-01 to 2017-06-30, \n",
    "Testing label - 2017-07-01 to 2017-12-31.\n",
    "\n",
    "I am doing the above case because as this is customer personalization usecase we want to know what the future buying trend of customers based on past purchasing trend so given past 1 year trend we want the target to be next buying trend (Here I am considering next 6 months trends as labels)\n",
    "\n"
   ]
  },
  {
   "cell_type": "code",
   "execution_count": 40,
   "metadata": {},
   "outputs": [],
   "source": [
    "#Training data slicing and label part\n",
    "train_feature_mask_order = (order_data_truncated.orderdate < '2017-01-01')\n",
    "train_feature_mask_online = (online_data.dt < '2017-01-01')\n",
    "train_label_mask = (order_data_truncated.orderdate >= '2017-01-01') & (order_data_truncated.orderdate <= '2017-06-30')\n",
    "order_train_features = order_data_truncated[train_feature_mask_order]\n",
    "online_train_features = online_data[train_feature_mask_online]\n",
    "order_train_labels_data = order_data_truncated[train_label_mask]\n",
    "\n",
    "#Testing data slicing and label part\n",
    "test_feature_mask_order = (order_data_truncated.orderdate >= '2016-07-01') & (order_data_truncated.orderdate <= '2017-06-30')\n",
    "test_feature_mask_online = (online_data.dt >= '2016-07-01') & (online_data.dt <= '2017-06-30')\n",
    "test_label_mask = (order_data_truncated.orderdate >= '2017-07-01') & (order_data_truncated.orderdate <= '2017-12-31')\n",
    "order_test_features = order_data_truncated[test_feature_mask_order]\n",
    "online_test_features = online_data[test_feature_mask_online]\n",
    "order_test_labels_data = order_data_truncated[test_label_mask]"
   ]
  },
  {
   "cell_type": "markdown",
   "metadata": {},
   "source": [
    "Now lets process a customer specific labels. Creating a data frame of custid and prodcat1- all individual columns something like below columns.\n",
    "\n",
    "custid, prodcat1_1, prodcat1_2, prodcat1_3, prodcat1_4, prodcat1_5, prodcat1_7\n",
    "\n",
    "Doing the above format - to model as multi-label classification problem. Will see the analysis as we go through"
   ]
  },
  {
   "cell_type": "code",
   "execution_count": 41,
   "metadata": {},
   "outputs": [
    {
     "data": {
      "text/html": [
       "<div>\n",
       "<style scoped>\n",
       "    .dataframe tbody tr th:only-of-type {\n",
       "        vertical-align: middle;\n",
       "    }\n",
       "\n",
       "    .dataframe tbody tr th {\n",
       "        vertical-align: top;\n",
       "    }\n",
       "\n",
       "    .dataframe thead th {\n",
       "        text-align: right;\n",
       "    }\n",
       "</style>\n",
       "<table border=\"1\" class=\"dataframe\">\n",
       "  <thead>\n",
       "    <tr style=\"text-align: right;\">\n",
       "      <th></th>\n",
       "      <th>custno</th>\n",
       "      <th>prodcat1</th>\n",
       "    </tr>\n",
       "  </thead>\n",
       "  <tbody>\n",
       "    <tr>\n",
       "      <th>0</th>\n",
       "      <td>18944</td>\n",
       "      <td>1</td>\n",
       "    </tr>\n",
       "    <tr>\n",
       "      <th>1</th>\n",
       "      <td>18944</td>\n",
       "      <td>7</td>\n",
       "    </tr>\n",
       "    <tr>\n",
       "      <th>2</th>\n",
       "      <td>18944</td>\n",
       "      <td>3</td>\n",
       "    </tr>\n",
       "    <tr>\n",
       "      <th>3</th>\n",
       "      <td>18944</td>\n",
       "      <td>2</td>\n",
       "    </tr>\n",
       "    <tr>\n",
       "      <th>4</th>\n",
       "      <td>18944</td>\n",
       "      <td>4</td>\n",
       "    </tr>\n",
       "  </tbody>\n",
       "</table>\n",
       "</div>"
      ],
      "text/plain": [
       "   custno  prodcat1\n",
       "0   18944         1\n",
       "1   18944         7\n",
       "2   18944         3\n",
       "3   18944         2\n",
       "4   18944         4"
      ]
     },
     "execution_count": 41,
     "metadata": {},
     "output_type": "execute_result"
    }
   ],
   "source": [
    "n_custids = order_data_truncated.custno.unique()\n",
    "n_procat1 = order_data.prodcat1.unique()\n",
    "custid_procat_df = pd.DataFrame(list(product(n_custids, n_procat1)), columns=['custno', 'prodcat1'])\n",
    "custid_procat_df.head()"
   ]
  },
  {
   "cell_type": "code",
   "execution_count": 42,
   "metadata": {},
   "outputs": [],
   "source": [
    "# Train labels creation based on users 6 months order history\n",
    "order_train_labels = order_train_labels_data.groupby(['custno', 'prodcat1'])['ordno'].count().reset_index().rename(columns = {'ordno' : 'prodcat1_count'})\n",
    "order_train_labels = pd.merge(order_train_labels, custid_procat_df, how = 'right', on = ['custno', 'prodcat1'])\n",
    "order_train_labels = order_train_labels.fillna(0)\n",
    "order_train_labels.loc[order_train_labels.prodcat1_count > 0, 'prodcat1_count'] =1\n",
    "train_label = pd.pivot_table(order_train_labels, values='prodcat1_count', index=['custno'],\n",
    "               columns=['prodcat1']).reset_index()\n",
    "\n",
    "# Testing labels creation based on users 6 months order history\n",
    "order_test_labels = order_test_labels_data.groupby(['custno', 'prodcat1'])['ordno'].count().reset_index().rename(columns = {'ordno' : 'prodcat1_count'})\n",
    "order_test_labels = pd.merge(order_test_labels, custid_procat_df, how = 'right', on = ['custno', 'prodcat1'])\n",
    "order_test_labels = order_test_labels.fillna(0)\n",
    "order_test_labels.loc[order_test_labels.prodcat1_count > 0, 'prodcat1_count'] =1\n",
    "test_label = pd.pivot_table(order_test_labels, values='prodcat1_count', index=['custno'],\n",
    "               columns=['prodcat1']).reset_index()"
   ]
  },
  {
   "cell_type": "code",
   "execution_count": 43,
   "metadata": {},
   "outputs": [
    {
     "data": {
      "text/plain": [
       "(48819, 7)"
      ]
     },
     "execution_count": 43,
     "metadata": {},
     "output_type": "execute_result"
    }
   ],
   "source": [
    "train_label.shape"
   ]
  },
  {
   "cell_type": "markdown",
   "metadata": {},
   "source": [
    "The below are the features which are designed based on order data and online data.\n",
    "\n",
    "Order data based feature engineering\n",
    "1.   Inactive number of days (recency)\n",
    "2.   Number of orders (frequency)\n",
    "3.   Revenue sum (monetary)\n",
    "4.   Customer age or how old is customer (join date to current date)\n",
    "5.   total unique products count w.r.t customer as a feature.\n",
    "\n",
    "Online data based feature engineering:\n",
    "\n",
    "Here in my assumption event class is a sign of some type of action from the customer like bookmarking or saving, sharing, add to cart, etc. type of events.\n",
    "\n",
    "And I am going to use only event2 and not event1 as a viable feature mostly because aound 80% of event1 is NAN and using it might cause bias in the data.\n",
    "\n"
   ]
  },
  {
   "cell_type": "code",
   "execution_count": 44,
   "metadata": {},
   "outputs": [],
   "source": [
    "def feature_engineer_online_and_order(onl_data, ord_data):\n",
    "\n",
    "    #order data based feature engineering\n",
    "    order_max_date = ord_data.orderdate.max() #get end date\n",
    "\n",
    "\n",
    "    order_data_features = ord_data.groupby(['custno']).agg({\n",
    "    'orderdate' : lambda x: (order_max_date - x.max()).days, # recency feature\n",
    "    'ordno' : 'count', # frequency orders feature\n",
    "    'revenue' : 'sum', # revenue sum feature\n",
    "    'prodcat1' : 'count'\n",
    "    }).rename(columns = {'orderdate' : 'recency',\n",
    "                      'ordno' : 'order_frequency',\n",
    "                      'revenue' : 'monetary',\n",
    "                      'prodcat1' : 'prodcat1_count'})\n",
    "\n",
    "    #online data based feature engineering\n",
    "    online_max_date = onl_data.dt.max()\n",
    "    #Lets consider sessions/ event1 as a feature.\n",
    "\n",
    "    online_data_features_1 = onl_data.groupby(['custno']).agg({\n",
    "        'dt' : lambda x: (online_max_date - x.max()).days, # last online Presence\n",
    "        'session': 'count'}).rename(columns = {'dt' : 'last_seen',\n",
    "                                               'session' : 'Total_sess_count'}).fillna(0)\n",
    "\n",
    "    online_data_features_2 = pd.pivot(onl_data.groupby(['custno', 'event2']).session.count().reset_index(), \n",
    "                                      values = 'session', \n",
    "                                      index = ['custno'], \n",
    "                                      columns = ['event2']).reset_index().fillna(0)\n",
    "\n",
    "    online_data_features_2.rename(columns= {1 : 'event2_1', 2: 'event2_2', 3 : 'event2_3',\n",
    "                                        4: 'event2_4', 5 : 'event2_5', 6: 'event2_6',\n",
    "                                        7 : 'event2_7', 8: 'event2_8', 9 : 'event2_9',\n",
    "                                        10 : 'event2_10', 11: 'event2_11'}, inplace = True)\n",
    "    online_data_features = pd.merge(online_data_features_1, online_data_features_2, on = 'custno')\n",
    "\n",
    "    final_feature_set = pd.merge(order_data_features, online_data_features, on = 'custno')\n",
    "\n",
    "    return final_feature_set\n"
   ]
  },
  {
   "cell_type": "code",
   "execution_count": 45,
   "metadata": {},
   "outputs": [],
   "source": [
    "train_feature_set = feature_engineer_online_and_order(online_train_features, order_train_features)\n",
    "test_feature_set = feature_engineer_online_and_order(online_test_features, order_test_features)"
   ]
  },
  {
   "cell_type": "markdown",
   "metadata": {},
   "source": [
    "# 3. Feature Selection\n",
    "\n",
    "Feature selection based on correlation matrix method.\n",
    "\n",
    "There other methodologies that can be used for feature selection too. Some of the techniques I use are but not used in this analysis are:\n",
    "1. L1_regularization Logistic regression model - L1 turns less improtant feature off (to 0)\n",
    "2. Chi-Square analysis deisgn to chek if a target variable is dependent on a particular feature or not.\n",
    "3. Checking feature importance using models like Random Forest or Decision trees and prune the feature based on that.\n"
   ]
  },
  {
   "cell_type": "code",
   "execution_count": 46,
   "metadata": {},
   "outputs": [
    {
     "data": {
      "text/html": [
       "<div>\n",
       "<style scoped>\n",
       "    .dataframe tbody tr th:only-of-type {\n",
       "        vertical-align: middle;\n",
       "    }\n",
       "\n",
       "    .dataframe tbody tr th {\n",
       "        vertical-align: top;\n",
       "    }\n",
       "\n",
       "    .dataframe thead th {\n",
       "        text-align: right;\n",
       "    }\n",
       "</style>\n",
       "<table border=\"1\" class=\"dataframe\">\n",
       "  <thead>\n",
       "    <tr style=\"text-align: right;\">\n",
       "      <th></th>\n",
       "      <th>custno</th>\n",
       "      <th>recency</th>\n",
       "      <th>order_frequency</th>\n",
       "      <th>monetary</th>\n",
       "      <th>prodcat1_count</th>\n",
       "      <th>last_seen</th>\n",
       "      <th>Total_sess_count</th>\n",
       "      <th>event2_1</th>\n",
       "      <th>event2_2</th>\n",
       "      <th>event2_3</th>\n",
       "      <th>event2_4</th>\n",
       "      <th>event2_5</th>\n",
       "      <th>event2_6</th>\n",
       "      <th>event2_7</th>\n",
       "      <th>event2_8</th>\n",
       "      <th>event2_9</th>\n",
       "      <th>event2_10</th>\n",
       "    </tr>\n",
       "  </thead>\n",
       "  <tbody>\n",
       "    <tr>\n",
       "      <th>0</th>\n",
       "      <td>7</td>\n",
       "      <td>250</td>\n",
       "      <td>6</td>\n",
       "      <td>665.35</td>\n",
       "      <td>6</td>\n",
       "      <td>83</td>\n",
       "      <td>9</td>\n",
       "      <td>1.0</td>\n",
       "      <td>0.0</td>\n",
       "      <td>0.0</td>\n",
       "      <td>1.0</td>\n",
       "      <td>0.0</td>\n",
       "      <td>0.0</td>\n",
       "      <td>3.0</td>\n",
       "      <td>2.0</td>\n",
       "      <td>2.0</td>\n",
       "      <td>0.0</td>\n",
       "    </tr>\n",
       "    <tr>\n",
       "      <th>1</th>\n",
       "      <td>8</td>\n",
       "      <td>18</td>\n",
       "      <td>13</td>\n",
       "      <td>1276.04</td>\n",
       "      <td>13</td>\n",
       "      <td>0</td>\n",
       "      <td>19</td>\n",
       "      <td>3.0</td>\n",
       "      <td>0.0</td>\n",
       "      <td>1.0</td>\n",
       "      <td>4.0</td>\n",
       "      <td>0.0</td>\n",
       "      <td>0.0</td>\n",
       "      <td>7.0</td>\n",
       "      <td>4.0</td>\n",
       "      <td>0.0</td>\n",
       "      <td>0.0</td>\n",
       "    </tr>\n",
       "    <tr>\n",
       "      <th>2</th>\n",
       "      <td>9</td>\n",
       "      <td>3</td>\n",
       "      <td>79</td>\n",
       "      <td>6326.35</td>\n",
       "      <td>79</td>\n",
       "      <td>4</td>\n",
       "      <td>42</td>\n",
       "      <td>0.0</td>\n",
       "      <td>0.0</td>\n",
       "      <td>4.0</td>\n",
       "      <td>8.0</td>\n",
       "      <td>0.0</td>\n",
       "      <td>0.0</td>\n",
       "      <td>19.0</td>\n",
       "      <td>8.0</td>\n",
       "      <td>3.0</td>\n",
       "      <td>0.0</td>\n",
       "    </tr>\n",
       "    <tr>\n",
       "      <th>3</th>\n",
       "      <td>11</td>\n",
       "      <td>10</td>\n",
       "      <td>35</td>\n",
       "      <td>2853.23</td>\n",
       "      <td>35</td>\n",
       "      <td>8</td>\n",
       "      <td>49</td>\n",
       "      <td>6.0</td>\n",
       "      <td>2.0</td>\n",
       "      <td>6.0</td>\n",
       "      <td>8.0</td>\n",
       "      <td>3.0</td>\n",
       "      <td>1.0</td>\n",
       "      <td>14.0</td>\n",
       "      <td>3.0</td>\n",
       "      <td>6.0</td>\n",
       "      <td>0.0</td>\n",
       "    </tr>\n",
       "    <tr>\n",
       "      <th>4</th>\n",
       "      <td>13</td>\n",
       "      <td>131</td>\n",
       "      <td>2</td>\n",
       "      <td>225.31</td>\n",
       "      <td>2</td>\n",
       "      <td>22</td>\n",
       "      <td>3</td>\n",
       "      <td>0.0</td>\n",
       "      <td>0.0</td>\n",
       "      <td>0.0</td>\n",
       "      <td>0.0</td>\n",
       "      <td>0.0</td>\n",
       "      <td>0.0</td>\n",
       "      <td>1.0</td>\n",
       "      <td>2.0</td>\n",
       "      <td>0.0</td>\n",
       "      <td>0.0</td>\n",
       "    </tr>\n",
       "  </tbody>\n",
       "</table>\n",
       "</div>"
      ],
      "text/plain": [
       "   custno  recency  order_frequency  monetary  prodcat1_count  last_seen  \\\n",
       "0       7      250                6    665.35               6         83   \n",
       "1       8       18               13   1276.04              13          0   \n",
       "2       9        3               79   6326.35              79          4   \n",
       "3      11       10               35   2853.23              35          8   \n",
       "4      13      131                2    225.31               2         22   \n",
       "\n",
       "   Total_sess_count  event2_1  event2_2  event2_3  event2_4  event2_5  \\\n",
       "0                 9       1.0       0.0       0.0       1.0       0.0   \n",
       "1                19       3.0       0.0       1.0       4.0       0.0   \n",
       "2                42       0.0       0.0       4.0       8.0       0.0   \n",
       "3                49       6.0       2.0       6.0       8.0       3.0   \n",
       "4                 3       0.0       0.0       0.0       0.0       0.0   \n",
       "\n",
       "   event2_6  event2_7  event2_8  event2_9  event2_10  \n",
       "0       0.0       3.0       2.0       2.0        0.0  \n",
       "1       0.0       7.0       4.0       0.0        0.0  \n",
       "2       0.0      19.0       8.0       3.0        0.0  \n",
       "3       1.0      14.0       3.0       6.0        0.0  \n",
       "4       0.0       1.0       2.0       0.0        0.0  "
      ]
     },
     "execution_count": 46,
     "metadata": {},
     "output_type": "execute_result"
    }
   ],
   "source": [
    "train_feature_set.head()"
   ]
  },
  {
   "cell_type": "code",
   "execution_count": 47,
   "metadata": {},
   "outputs": [
    {
     "data": {
      "image/png": "[encoded data removed]",
      "text/plain": [
       "<Figure size 720x576 with 2 Axes>"
      ]
     },
     "metadata": {
      "needs_background": "light"
     },
     "output_type": "display_data"
    }
   ],
   "source": [
    "plt.figure(figsize = (10,8))\n",
    "sns.heatmap(train_feature_set.corr(), cmap=\"Greens\")\n",
    "plt.show()"
   ]
  },
  {
   "cell_type": "markdown",
   "metadata": {},
   "source": [
    "From the above correlation matric we can see a strong positive correlation between \n",
    "1. Order_frequency - Monetary.\n",
    "2. Monetary - Prodcat1_count.\n",
    "\n",
    "So lets use only monetary as the feature for analysis and remove 'Order_frequency' and 'Prodcat1_count'."
   ]
  },
  {
   "cell_type": "code",
   "execution_count": 48,
   "metadata": {},
   "outputs": [],
   "source": [
    "train_feature_set = train_feature_set.drop(columns=['order_frequency', 'prodcat1_count'])\n",
    "test_feature_set = test_feature_set.drop(columns=['order_frequency', 'prodcat1_count'])"
   ]
  },
  {
   "cell_type": "markdown",
   "metadata": {},
   "source": [
    "# 4. Model Design and Sampling"
   ]
  },
  {
   "cell_type": "markdown",
   "metadata": {},
   "source": [
    "There are 3 ways I could have Structured this problem - basically to recommend products to customers.\n",
    "\n",
    "1. Approach of content-based filtering recommenddation. In this case I would structure the dataset as a dense matrix between custno vs prodcat2_prodcat1. Based on this matrix we can look the customer-customer similarity or product-prodcut similarity and model the predictions.\n",
    "\n",
    "2. Approach of collaborative-filtering using matrix factorization methods. We can use the same data matrix as content-based and use matrix factorization techniques like SVD to model the latent group base between customers and products.\n",
    "\n",
    "3. Model the data as a Multi-target classification or to be specific Multi-label classification problem (not to be confused with multi-class classification). I going to showcase the analysis of this modelling as this is better technique to use as we can use extra information based on the features engineered above. (And this type of modelling helps with the cold-start problem of recommendar systems.)\n",
    "\n",
    "Using Approach_3 - as mentioned in the readme to model a supervised classification problem and I feel this is more interesting too."
   ]
  },
  {
   "cell_type": "markdown",
   "metadata": {},
   "source": [
    "Test and Train sample engineering"
   ]
  },
  {
   "cell_type": "code",
   "execution_count": 49,
   "metadata": {},
   "outputs": [],
   "source": [
    "def train_test_feature_label_sync(train_feature, test_feature, train_label, test_label):\n",
    "    #train feature and label processing\n",
    "    train_set = pd.merge(train_feature, train_label, on = 'custno')\n",
    "    train_attributes = train_set.drop(columns = ['custno', 1,2,3,4,5,7])\n",
    "    train_labels = train_set[[1,2,3,4,5,7]]\n",
    "\n",
    "    #test feature and label processing\n",
    "    test_set = pd.merge(test_feature, test_label, on = 'custno')\n",
    "    test_attributes = test_set.drop(columns = ['custno', 1,2,3,4,5,7])\n",
    "    test_labels = test_set[[1,2,3,4,5,7]]\n",
    "\n",
    "    return train_attributes, train_labels, test_attributes, test_labels\n"
   ]
  },
  {
   "cell_type": "code",
   "execution_count": 50,
   "metadata": {},
   "outputs": [],
   "source": [
    "x_train, y_train, x_test, y_test = train_test_feature_label_sync(train_feature_set,\n",
    "                                                                test_feature_set,\n",
    "                                                                train_label,\n",
    "                                                                test_label)"
   ]
  },
  {
   "cell_type": "code",
   "execution_count": 77,
   "metadata": {},
   "outputs": [
    {
     "data": {
      "text/html": [
       "<div>\n",
       "<style scoped>\n",
       "    .dataframe tbody tr th:only-of-type {\n",
       "        vertical-align: middle;\n",
       "    }\n",
       "\n",
       "    .dataframe tbody tr th {\n",
       "        vertical-align: top;\n",
       "    }\n",
       "\n",
       "    .dataframe thead th {\n",
       "        text-align: right;\n",
       "    }\n",
       "</style>\n",
       "<table border=\"1\" class=\"dataframe\">\n",
       "  <thead>\n",
       "    <tr style=\"text-align: right;\">\n",
       "      <th></th>\n",
       "      <th>recency</th>\n",
       "      <th>monetary</th>\n",
       "      <th>last_seen</th>\n",
       "      <th>Total_sess_count</th>\n",
       "      <th>event2_1</th>\n",
       "      <th>event2_2</th>\n",
       "      <th>event2_3</th>\n",
       "      <th>event2_4</th>\n",
       "      <th>event2_5</th>\n",
       "      <th>event2_6</th>\n",
       "      <th>event2_7</th>\n",
       "      <th>event2_8</th>\n",
       "      <th>event2_9</th>\n",
       "      <th>event2_10</th>\n",
       "    </tr>\n",
       "  </thead>\n",
       "  <tbody>\n",
       "    <tr>\n",
       "      <th>0</th>\n",
       "      <td>250</td>\n",
       "      <td>665.35</td>\n",
       "      <td>83</td>\n",
       "      <td>9</td>\n",
       "      <td>1.0</td>\n",
       "      <td>0.0</td>\n",
       "      <td>0.0</td>\n",
       "      <td>1.0</td>\n",
       "      <td>0.0</td>\n",
       "      <td>0.0</td>\n",
       "      <td>3.0</td>\n",
       "      <td>2.0</td>\n",
       "      <td>2.0</td>\n",
       "      <td>0.0</td>\n",
       "    </tr>\n",
       "    <tr>\n",
       "      <th>1</th>\n",
       "      <td>18</td>\n",
       "      <td>1276.04</td>\n",
       "      <td>0</td>\n",
       "      <td>19</td>\n",
       "      <td>3.0</td>\n",
       "      <td>0.0</td>\n",
       "      <td>1.0</td>\n",
       "      <td>4.0</td>\n",
       "      <td>0.0</td>\n",
       "      <td>0.0</td>\n",
       "      <td>7.0</td>\n",
       "      <td>4.0</td>\n",
       "      <td>0.0</td>\n",
       "      <td>0.0</td>\n",
       "    </tr>\n",
       "    <tr>\n",
       "      <th>2</th>\n",
       "      <td>3</td>\n",
       "      <td>6326.35</td>\n",
       "      <td>4</td>\n",
       "      <td>42</td>\n",
       "      <td>0.0</td>\n",
       "      <td>0.0</td>\n",
       "      <td>4.0</td>\n",
       "      <td>8.0</td>\n",
       "      <td>0.0</td>\n",
       "      <td>0.0</td>\n",
       "      <td>19.0</td>\n",
       "      <td>8.0</td>\n",
       "      <td>3.0</td>\n",
       "      <td>0.0</td>\n",
       "    </tr>\n",
       "    <tr>\n",
       "      <th>3</th>\n",
       "      <td>10</td>\n",
       "      <td>2853.23</td>\n",
       "      <td>8</td>\n",
       "      <td>49</td>\n",
       "      <td>6.0</td>\n",
       "      <td>2.0</td>\n",
       "      <td>6.0</td>\n",
       "      <td>8.0</td>\n",
       "      <td>3.0</td>\n",
       "      <td>1.0</td>\n",
       "      <td>14.0</td>\n",
       "      <td>3.0</td>\n",
       "      <td>6.0</td>\n",
       "      <td>0.0</td>\n",
       "    </tr>\n",
       "    <tr>\n",
       "      <th>4</th>\n",
       "      <td>131</td>\n",
       "      <td>225.31</td>\n",
       "      <td>22</td>\n",
       "      <td>3</td>\n",
       "      <td>0.0</td>\n",
       "      <td>0.0</td>\n",
       "      <td>0.0</td>\n",
       "      <td>0.0</td>\n",
       "      <td>0.0</td>\n",
       "      <td>0.0</td>\n",
       "      <td>1.0</td>\n",
       "      <td>2.0</td>\n",
       "      <td>0.0</td>\n",
       "      <td>0.0</td>\n",
       "    </tr>\n",
       "  </tbody>\n",
       "</table>\n",
       "</div>"
      ],
      "text/plain": [
       "   recency  monetary  last_seen  Total_sess_count  event2_1  event2_2  \\\n",
       "0      250    665.35         83                 9       1.0       0.0   \n",
       "1       18   1276.04          0                19       3.0       0.0   \n",
       "2        3   6326.35          4                42       0.0       0.0   \n",
       "3       10   2853.23          8                49       6.0       2.0   \n",
       "4      131    225.31         22                 3       0.0       0.0   \n",
       "\n",
       "   event2_3  event2_4  event2_5  event2_6  event2_7  event2_8  event2_9  \\\n",
       "0       0.0       1.0       0.0       0.0       3.0       2.0       2.0   \n",
       "1       1.0       4.0       0.0       0.0       7.0       4.0       0.0   \n",
       "2       4.0       8.0       0.0       0.0      19.0       8.0       3.0   \n",
       "3       6.0       8.0       3.0       1.0      14.0       3.0       6.0   \n",
       "4       0.0       0.0       0.0       0.0       1.0       2.0       0.0   \n",
       "\n",
       "   event2_10  \n",
       "0        0.0  \n",
       "1        0.0  \n",
       "2        0.0  \n",
       "3        0.0  \n",
       "4        0.0  "
      ]
     },
     "execution_count": 77,
     "metadata": {},
     "output_type": "execute_result"
    }
   ],
   "source": [
    "x_train.head()"
   ]
  },
  {
   "cell_type": "code",
   "execution_count": 78,
   "metadata": {},
   "outputs": [
    {
     "data": {
      "text/html": [
       "<div>\n",
       "<style scoped>\n",
       "    .dataframe tbody tr th:only-of-type {\n",
       "        vertical-align: middle;\n",
       "    }\n",
       "\n",
       "    .dataframe tbody tr th {\n",
       "        vertical-align: top;\n",
       "    }\n",
       "\n",
       "    .dataframe thead th {\n",
       "        text-align: right;\n",
       "    }\n",
       "</style>\n",
       "<table border=\"1\" class=\"dataframe\">\n",
       "  <thead>\n",
       "    <tr style=\"text-align: right;\">\n",
       "      <th></th>\n",
       "      <th>1</th>\n",
       "      <th>2</th>\n",
       "      <th>3</th>\n",
       "      <th>4</th>\n",
       "      <th>5</th>\n",
       "      <th>7</th>\n",
       "    </tr>\n",
       "  </thead>\n",
       "  <tbody>\n",
       "    <tr>\n",
       "      <th>0</th>\n",
       "      <td>0.0</td>\n",
       "      <td>0.0</td>\n",
       "      <td>0.0</td>\n",
       "      <td>0.0</td>\n",
       "      <td>0.0</td>\n",
       "      <td>0.0</td>\n",
       "    </tr>\n",
       "    <tr>\n",
       "      <th>1</th>\n",
       "      <td>1.0</td>\n",
       "      <td>1.0</td>\n",
       "      <td>0.0</td>\n",
       "      <td>1.0</td>\n",
       "      <td>0.0</td>\n",
       "      <td>1.0</td>\n",
       "    </tr>\n",
       "    <tr>\n",
       "      <th>2</th>\n",
       "      <td>0.0</td>\n",
       "      <td>1.0</td>\n",
       "      <td>0.0</td>\n",
       "      <td>1.0</td>\n",
       "      <td>0.0</td>\n",
       "      <td>1.0</td>\n",
       "    </tr>\n",
       "    <tr>\n",
       "      <th>3</th>\n",
       "      <td>1.0</td>\n",
       "      <td>0.0</td>\n",
       "      <td>1.0</td>\n",
       "      <td>1.0</td>\n",
       "      <td>1.0</td>\n",
       "      <td>1.0</td>\n",
       "    </tr>\n",
       "    <tr>\n",
       "      <th>4</th>\n",
       "      <td>0.0</td>\n",
       "      <td>0.0</td>\n",
       "      <td>0.0</td>\n",
       "      <td>0.0</td>\n",
       "      <td>0.0</td>\n",
       "      <td>0.0</td>\n",
       "    </tr>\n",
       "  </tbody>\n",
       "</table>\n",
       "</div>"
      ],
      "text/plain": [
       "     1    2    3    4    5    7\n",
       "0  0.0  0.0  0.0  0.0  0.0  0.0\n",
       "1  1.0  1.0  0.0  1.0  0.0  1.0\n",
       "2  0.0  1.0  0.0  1.0  0.0  1.0\n",
       "3  1.0  0.0  1.0  1.0  1.0  1.0\n",
       "4  0.0  0.0  0.0  0.0  0.0  0.0"
      ]
     },
     "execution_count": 78,
     "metadata": {},
     "output_type": "execute_result"
    }
   ],
   "source": [
    "y_train.head()"
   ]
  },
  {
   "cell_type": "markdown",
   "metadata": {},
   "source": [
    "# 5. Model Generation:"
   ]
  },
  {
   "cell_type": "markdown",
   "metadata": {},
   "source": [
    "Lets start with basic logistic regression model and see how its performing."
   ]
  },
  {
   "cell_type": "code",
   "execution_count": 51,
   "metadata": {},
   "outputs": [],
   "source": [
    "pipeline_lr = Pipeline([('scaler', StandardScaler()),\n",
    "                        ('multi_output_class', MultiOutputClassifier(estimator= LogisticRegression()))])\n",
    "\n",
    "lr_params = [{'multi_output_class__estimator__penalty': ['l1', 'l2'],\n",
    "              'multi_output_class__estimator__C': [1.0, 0.5]}] \n",
    "\n",
    "clf_grid_lr = GridSearchCV(pipeline_lr , lr_params)\n",
    "clf_grid_lr = clf_grid_lr.fit(x_train, y_train)\n"
   ]
  },
  {
   "cell_type": "code",
   "execution_count": 52,
   "metadata": {},
   "outputs": [
    {
     "name": "stdout",
     "output_type": "stream",
     "text": [
      "Feature 0: recency, Score: -1.74958\n",
      "Feature 1: monetary, Score: 0.38896\n",
      "Feature 2: last_seen, Score: 0.06053\n",
      "Feature 3: Total_sess_count, Score: 0.00272\n",
      "Feature 4: event2_1, Score: 0.02702\n",
      "Feature 5: event2_2, Score: 0.02616\n",
      "Feature 6: event2_3, Score: 0.07224\n",
      "Feature 7: event2_4, Score: -0.00079\n",
      "Feature 8: event2_5, Score: -0.02918\n",
      "Feature 9: event2_6, Score: -0.06598\n",
      "Feature 10: event2_7, Score: 0.00654\n",
      "Feature 11: event2_8, Score: -0.06364\n",
      "Feature 12: event2_9, Score: 0.02021\n",
      "Feature 13: event2_10, Score: -0.03446\n"
     ]
    },
    {
     "data": {
      "image/png": "[encoded data removed]",
      "text/plain": [
       "<Figure size 432x288 with 1 Axes>"
      ]
     },
     "metadata": {
      "needs_background": "light"
     },
     "output_type": "display_data"
    }
   ],
   "source": [
    "feature_columns = list(x_train.columns)\n",
    "lr_importance = clf_grid_lr.best_estimator_.steps[1][1].estimators_[0].coef_[0]\n",
    "for i,v in enumerate(lr_importance):\n",
    "    print('Feature %0d: %s, Score: %.5f' % (i, feature_columns[i],v))\n",
    "# plot feature importance\n",
    "plt.bar([x for x in range(len(lr_importance))], lr_importance)\n",
    "plt.show()"
   ]
  },
  {
   "cell_type": "markdown",
   "metadata": {},
   "source": [
    "Using Random Forest Classifier:\n"
   ]
  },
  {
   "cell_type": "code",
   "execution_count": 54,
   "metadata": {},
   "outputs": [],
   "source": [
    "pipeline_rf = Pipeline([( \"scaler\" , StandardScaler()),\n",
    "                       (\"rf\",RandomForestClassifier())])\n",
    "\n",
    "rf_params = {'rf__n_estimators':[1,10,100],\n",
    "              'rf__min_samples_split': [3,4,5]\n",
    "              }\n",
    "\n",
    "clf_grid_rf = GridSearchCV(pipeline_rf , rf_params)\n",
    "\n",
    "clf_grid_rf = clf_grid_rf.fit(x_train, y_train)"
   ]
  },
  {
   "cell_type": "code",
   "execution_count": 55,
   "metadata": {},
   "outputs": [
    {
     "name": "stdout",
     "output_type": "stream",
     "text": [
      "Feature 0: recency, Score: 0.25976\n",
      "Feature 1: monetary, Score: 0.30512\n",
      "Feature 2: last_seen, Score: 0.09180\n",
      "Feature 3: Total_sess_count, Score: 0.06471\n",
      "Feature 4: event2_1, Score: 0.02928\n",
      "Feature 5: event2_2, Score: 0.01769\n",
      "Feature 6: event2_3, Score: 0.03671\n",
      "Feature 7: event2_4, Score: 0.03439\n",
      "Feature 8: event2_5, Score: 0.02229\n",
      "Feature 9: event2_6, Score: 0.01805\n",
      "Feature 10: event2_7, Score: 0.04989\n",
      "Feature 11: event2_8, Score: 0.03631\n",
      "Feature 12: event2_9, Score: 0.02707\n",
      "Feature 13: event2_10, Score: 0.00693\n"
     ]
    },
    {
     "data": {
      "image/png": "[encoded data removed]",
      "text/plain": [
       "<Figure size 432x288 with 1 Axes>"
      ]
     },
     "metadata": {
      "needs_background": "light"
     },
     "output_type": "display_data"
    }
   ],
   "source": [
    "# feature importance\n",
    "rf_importance = clf_grid_rf.best_estimator_.steps[1][1].feature_importances_\n",
    "for i,v in enumerate(rf_importance):\n",
    "    print('Feature %0d: %s, Score: %.5f' % (i, feature_columns[i],v))\n",
    "# plot feature importance\n",
    "plt.bar([x for x in range(len(rf_importance))], rf_importance)\n",
    "plt.show()"
   ]
  },
  {
   "cell_type": "markdown",
   "metadata": {},
   "source": [
    "XGBoost Model generation"
   ]
  },
  {
   "cell_type": "code",
   "execution_count": 63,
   "metadata": {},
   "outputs": [],
   "source": [
    "pipeline_xgb = Pipeline([( \"scaler\" , StandardScaler()),\n",
    "                       (\"multi_label_xgb\",MultiOutputClassifier(estimator = \n",
    "                                                                XGBClassifier(objective = \"binary:logistic\")))])\n",
    "\n",
    "xgb_param_grid = {'multi_label_xgb__estimator__max_depth': [5, 7, 10],\n",
    "                  'multi_label_xgb__estimator__n_estimators': [10, 100],\n",
    "                 'multi_label_xgb__estimator__verbosity': [0]}\n",
    "\n",
    "clf_grid_xgb = GridSearchCV(pipeline_xgb , xgb_param_grid)\n",
    "\n",
    "clf_grid_xgb = clf_grid_xgb.fit(x_train, y_train)"
   ]
  },
  {
   "cell_type": "code",
   "execution_count": 64,
   "metadata": {},
   "outputs": [
    {
     "name": "stdout",
     "output_type": "stream",
     "text": [
      "Feature 0: recency, Score: 0.39645\n",
      "Feature 1: monetary, Score: 0.18829\n",
      "Feature 2: last_seen, Score: 0.03079\n",
      "Feature 3: Total_sess_count, Score: 0.03584\n",
      "Feature 4: event2_1, Score: 0.02528\n",
      "Feature 5: event2_2, Score: 0.02043\n",
      "Feature 6: event2_3, Score: 0.04248\n",
      "Feature 7: event2_4, Score: 0.03200\n",
      "Feature 8: event2_5, Score: 0.02815\n",
      "Feature 9: event2_6, Score: 0.06239\n",
      "Feature 10: event2_7, Score: 0.04482\n",
      "Feature 11: event2_8, Score: 0.02233\n",
      "Feature 12: event2_9, Score: 0.02658\n",
      "Feature 13: event2_10, Score: 0.04420\n"
     ]
    },
    {
     "data": {
      "image/png": "[encoded data removed]",
      "text/plain": [
       "<Figure size 432x288 with 1 Axes>"
      ]
     },
     "metadata": {
      "needs_background": "light"
     },
     "output_type": "display_data"
    }
   ],
   "source": [
    "xgb_importance = clf_grid_xgb.best_estimator_.steps[1][1].estimators_[0].feature_importances_\n",
    "\n",
    "for i,v in enumerate(xgb_importance):\n",
    "    print('Feature %0d: %s, Score: %.5f' % (i, feature_columns[i],v))\n",
    "    \n",
    "# plot feature importance\n",
    "plt.bar([x for x in range(len(xgb_importance))], xgb_importance)\n",
    "plt.show()"
   ]
  },
  {
   "cell_type": "markdown",
   "metadata": {},
   "source": [
    "# 6. Model Evaluation:\n",
    "\n",
    "Now lets look the model performances of all the models - logisticRegression, RandomForests, XGBoosts trained above. "
   ]
  },
  {
   "cell_type": "markdown",
   "metadata": {},
   "source": [
    "Evaluation of Logistic Regression model:"
   ]
  },
  {
   "cell_type": "code",
   "execution_count": 65,
   "metadata": {},
   "outputs": [
    {
     "name": "stdout",
     "output_type": "stream",
     "text": [
      "Accuracy Score value of Logistic Regression model on train_data :  0.8859792689579924\n",
      "Accuracy Score value of Logistic Regression model on test_data :  0.8547312305641936\n"
     ]
    }
   ],
   "source": [
    "y_pred_train_lr = clf_grid_lr.predict(x_train)\n",
    "y_pred_test_lr = clf_grid_lr.predict(x_test)\n",
    "\n",
    "#Accuracy_score\n",
    "print(\"Accuracy Score value of Logistic Regression model on train_data : \", \n",
    "      accuracy_score(y_train, y_pred_train_lr))\n",
    "\n",
    "print(\"Accuracy Score value of Logistic Regression model on test_data : \", \n",
    "      accuracy_score(y_test, y_pred_test_lr))"
   ]
  },
  {
   "cell_type": "markdown",
   "metadata": {},
   "source": [
    "Lets consider one more metric - Hamming Loss which is the ideal one for multi-label classification instead of accuracy.\n",
    "\n",
    "Hamming loss - fraction of the wrong labels to the total number of labels"
   ]
  },
  {
   "cell_type": "code",
   "execution_count": 66,
   "metadata": {},
   "outputs": [
    {
     "name": "stdout",
     "output_type": "stream",
     "text": [
      "Hamming loss of Logistic Regression model on test_data: 0.03637024913620658\n",
      "Hamming loss of Logistic Regression model on test_data: 0.055508662816525986\n"
     ]
    }
   ],
   "source": [
    "print(\"Hamming loss of Logistic Regression model on test_data:\", \n",
    "      hamming_loss(y_train, y_pred_train_lr))\n",
    "\n",
    "print(\"Hamming loss of Logistic Regression model on test_data:\", \n",
    "      hamming_loss(y_test, y_pred_test_lr))\n"
   ]
  },
  {
   "cell_type": "markdown",
   "metadata": {},
   "source": [
    "But as we saw initially the data is highly imbalanced so accuracy is not the right metric to trust on. Lets look at the classification report for better understanding of precision, recall and F1_score."
   ]
  },
  {
   "cell_type": "code",
   "execution_count": 74,
   "metadata": {},
   "outputs": [
    {
     "name": "stdout",
     "output_type": "stream",
     "text": [
      "Classification report of logistic regression model : \n",
      "              precision    recall  f1-score   support\n",
      "\n",
      "     Class_1       0.77      0.07      0.13      1821\n",
      "     Class_2       0.73      0.28      0.40      1705\n",
      "     Class_3       0.76      0.30      0.43      1392\n",
      "     Class_4       0.58      0.16      0.24      1116\n",
      "     Class_5       0.75      0.02      0.03      1119\n",
      "     Class_7       0.82      0.21      0.33      1289\n",
      "\n",
      "   micro avg       0.73      0.18      0.28      8442\n",
      "   macro avg       0.74      0.17      0.26      8442\n",
      "weighted avg       0.74      0.18      0.27      8442\n",
      " samples avg       0.02      0.02      0.02      8442\n",
      "\n"
     ]
    }
   ],
   "source": [
    "print(\"Classification report of logistic regression model : \")\n",
    "print(classification_report(y_test, y_pred_test_lr, \n",
    "                            target_names=['Class_1', 'Class_2', 'Class_3', 'Class_4', 'Class_5', 'Class_7']))"
   ]
  },
  {
   "cell_type": "markdown",
   "metadata": {},
   "source": [
    "Evaluation of RandomForests model:\n"
   ]
  },
  {
   "cell_type": "code",
   "execution_count": 68,
   "metadata": {},
   "outputs": [
    {
     "name": "stdout",
     "output_type": "stream",
     "text": [
      "Accuracy Score value of RandomForest model on train_data :  0.9409892707765048\n",
      "Accuracy Score value of RandomForest model on test_data :  0.8513105286539315\n"
     ]
    }
   ],
   "source": [
    "y_pred_train_rf = clf_grid_rf.predict(x_train)\n",
    "y_pred_test_rf = clf_grid_rf.predict(x_test)\n",
    "\n",
    "#Accuracy_score\n",
    "print(\"Accuracy Score value of RandomForest model on train_data : \", \n",
    "      accuracy_score(y_train, y_pred_train_rf))\n",
    "\n",
    "print(\"Accuracy Score value of RandomForest model on test_data : \", \n",
    "      accuracy_score(y_test, y_pred_test_rf))"
   ]
  },
  {
   "cell_type": "code",
   "execution_count": 69,
   "metadata": {},
   "outputs": [
    {
     "name": "stdout",
     "output_type": "stream",
     "text": [
      "Hamming loss of RandomForest model on test_data: 0.01333575801660908\n",
      "Hamming loss of RandomForest model on test_data: 0.05561972456685917\n"
     ]
    }
   ],
   "source": [
    "print(\"Hamming loss of RandomForest model on test_data:\", \n",
    "      hamming_loss(y_train, y_pred_train_rf))\n",
    "\n",
    "print(\"Hamming loss of RandomForest model on test_data:\", \n",
    "      hamming_loss(y_test, y_pred_test_rf))\n"
   ]
  },
  {
   "cell_type": "code",
   "execution_count": 75,
   "metadata": {},
   "outputs": [
    {
     "name": "stdout",
     "output_type": "stream",
     "text": [
      "Classification report of Random Forest model : \n",
      "              precision    recall  f1-score   support\n",
      "\n",
      "     Class_1       0.80      0.06      0.11      1821\n",
      "     Class_2       0.65      0.36      0.46      1705\n",
      "     Class_3       0.73      0.35      0.47      1392\n",
      "     Class_4       0.58      0.21      0.30      1116\n",
      "     Class_5       0.86      0.01      0.01      1119\n",
      "     Class_7       0.76      0.22      0.34      1289\n",
      "\n",
      "   micro avg       0.68      0.20      0.31      8442\n",
      "   macro avg       0.73      0.20      0.28      8442\n",
      "weighted avg       0.73      0.20      0.29      8442\n",
      " samples avg       0.03      0.02      0.02      8442\n",
      "\n"
     ]
    }
   ],
   "source": [
    "print(\"Classification report of Random Forest model : \")\n",
    "print(classification_report(y_test, y_pred_test_rf, \n",
    "                            target_names=['Class_1', 'Class_2', 'Class_3', 'Class_4', 'Class_5', 'Class_7']))"
   ]
  },
  {
   "cell_type": "markdown",
   "metadata": {},
   "source": [
    "Evaluation of XGBoost Model:"
   ]
  },
  {
   "cell_type": "code",
   "execution_count": 71,
   "metadata": {},
   "outputs": [
    {
     "name": "stdout",
     "output_type": "stream",
     "text": [
      "Accuracy Score value of RandomForest model on train_data :  0.8901163847972359\n",
      "Accuracy Score value of RandomForest model on test_data :  0.8318525099955575\n"
     ]
    }
   ],
   "source": [
    "y_pred_train_xgb = clf_grid_xgb.predict(x_train)\n",
    "y_pred_test_xgb = clf_grid_xgb.predict(x_test)\n",
    "\n",
    "#Accuracy_score\n",
    "print(\"Accuracy Score value of RandomForest model on train_data : \", \n",
    "      accuracy_score(y_train, y_pred_train_xgb))\n",
    "\n",
    "print(\"Accuracy Score value of RandomForest model on test_data : \", \n",
    "      accuracy_score(y_test, y_pred_test_xgb))"
   ]
  },
  {
   "cell_type": "code",
   "execution_count": 72,
   "metadata": {},
   "outputs": [
    {
     "name": "stdout",
     "output_type": "stream",
     "text": [
      "Hamming loss of RandomForest model on test_data: 0.0320133963750985\n",
      "Hamming loss of RandomForest model on test_data: 0.05911446764401007\n"
     ]
    }
   ],
   "source": [
    "print(\"Hamming loss of RandomForest model on test_data:\", \n",
    "      hamming_loss(y_train, y_pred_train_xgb))\n",
    "\n",
    "print(\"Hamming loss of RandomForest model on test_data:\", \n",
    "      hamming_loss(y_test, y_pred_test_xgb))\n"
   ]
  },
  {
   "cell_type": "code",
   "execution_count": 76,
   "metadata": {},
   "outputs": [
    {
     "name": "stdout",
     "output_type": "stream",
     "text": [
      "Classification report of XGBoost model : \n",
      "              precision    recall  f1-score   support\n",
      "\n",
      "     Class_1       0.76      0.07      0.13      1821\n",
      "     Class_2       0.55      0.39      0.46      1705\n",
      "     Class_3       0.69      0.34      0.46      1392\n",
      "     Class_4       0.35      0.24      0.28      1116\n",
      "     Class_5       0.89      0.01      0.01      1119\n",
      "     Class_7       0.74      0.24      0.36      1289\n",
      "\n",
      "   micro avg       0.57      0.22      0.32      8442\n",
      "   macro avg       0.66      0.21      0.28      8442\n",
      "weighted avg       0.67      0.22      0.29      8442\n",
      " samples avg       0.03      0.02      0.02      8442\n",
      "\n"
     ]
    }
   ],
   "source": [
    "print(\"Classification report of XGBoost model : \")\n",
    "print(classification_report(y_test, y_pred_test_xgb, \n",
    "                            target_names=['Class_1', 'Class_2', 'Class_3', 'Class_4', 'Class_5', 'Class_7']))"
   ]
  },
  {
   "cell_type": "markdown",
   "metadata": {},
   "source": [
    "# 7. Summary : "
   ]
  },
  {
   "cell_type": "markdown",
   "metadata": {},
   "source": [
    "Results discussion :\n",
    "\n",
    "From the above evaluation of all the 3 models we can almost similar performance in them. Even though the performance of the models is not that great based on f1_score it shows some understanding of what features are the driving force of the models like all the 3 models predicted the top features as 'Recency', 'Monetary' and 'Last_seen'. So, these features are mainly effecting the models output."
   ]
  },
  {
   "cell_type": "markdown",
   "metadata": {},
   "source": [
    "The customer segmentation showed very promising analysis as we can clearly see who is the loyal and who is low_value customer. This analysis can be used to target the customer by designing customized marketing strategies.\n",
    "\n",
    "On the dataset side there are some features like the category (prodcat1) has only 3 classes. So, this is causing the features extracted from online_data to biased based on those classes. It would be nice to have other data related to other classes too (if available).\n",
    "\n",
    "Improving Performance:\n",
    "\n",
    "I took the approach of designing the problem as Multi-Label classification because of the suggestion in the readme to model a multi-class supervised learning problem. I agree with this premise because this type of analysis helps to avoid cold-start problems as we can bring in additional features like demographics, age, product_preferences etc.\n",
    "\n",
    "In addition I think it would be a promising area - if we can add some custom features from collaborative filtering approach to the above analysis (due to time constraints I couldn't model those features). Model SVD or KNN based collaborative model and extract features like top k customers similar to a given customer_id -> extract there product preference and also top k items similar to a given prodcat1 category based on user history. Adding these features might improve performance abit. "
   ]
  },
  {
   "cell_type": "code",
   "execution_count": null,
   "metadata": {},
   "outputs": [],
   "source": []
  }
 ],
 "metadata": {
  "kernelspec": {
   "display_name": "Python 3",
   "language": "python",
   "name": "python3"
  },
  "language_info": {
   "codemirror_mode": {
    "name": "ipython",
    "version": 3
   },
   "file_extension": ".py",
   "mimetype": "text/x-python",
   "name": "python",
   "nbconvert_exporter": "python",
   "pygments_lexer": "ipython3",
   "version": "3.8.3"
  }
 },
 "nbformat": 4,
 "nbformat_minor": 4
}
